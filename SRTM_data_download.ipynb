{
 "cells": [
  {
   "cell_type": "code",
   "execution_count": 1,
   "metadata": {},
   "outputs": [],
   "source": [
    "#Import packages\n",
    "import geemap\n",
    "import geopandas\n",
    "import ee\n",
    "import os"
   ]
  },
  {
   "cell_type": "code",
   "execution_count": 2,
   "metadata": {},
   "outputs": [
    {
     "data": {
      "text/html": [
       "<p>To authorize access needed by Earth Engine, open the following\n",
       "        URL in a web browser and follow the instructions:</p>\n",
       "        <p><a href=https://code.earthengine.google.com/client-auth?scopes=https%3A//www.googleapis.com/auth/earthengine%20https%3A//www.googleapis.com/auth/devstorage.full_control&request_id=W7SmKqOAlrKYmJDjcGd6dqj3G9vAOxKugTD19NqDLiQ&tc=EmQAvGwXvEXuDRg6IrsDUTWntIdBlyEfYLRrn2v-nIo&cc=OwNiRF8JsE7cAon7ZXhTigOjpWyh9MfxmP4rr_41eyI>https://code.earthengine.google.com/client-auth?scopes=https%3A//www.googleapis.com/auth/earthengine%20https%3A//www.googleapis.com/auth/devstorage.full_control&request_id=W7SmKqOAlrKYmJDjcGd6dqj3G9vAOxKugTD19NqDLiQ&tc=EmQAvGwXvEXuDRg6IrsDUTWntIdBlyEfYLRrn2v-nIo&cc=OwNiRF8JsE7cAon7ZXhTigOjpWyh9MfxmP4rr_41eyI</a></p>\n",
       "        <p>The authorization workflow will generate a code, which you should paste in the box below.</p>\n",
       "        "
      ],
      "text/plain": [
       "<IPython.core.display.HTML object>"
      ]
     },
     "metadata": {},
     "output_type": "display_data"
    },
    {
     "name": "stdout",
     "output_type": "stream",
     "text": [
      "\n",
      "Successfully saved authorization token.\n"
     ]
    },
    {
     "data": {
      "application/vnd.jupyter.widget-view+json": {
       "model_id": "66b524c5ed794cfd9dd0b54cd42dd81c",
       "version_major": 2,
       "version_minor": 0
      },
      "text/plain": [
       "Map(center=[40, -100], controls=(WidgetControl(options=['position', 'transparent_bg'], widget=HBox(children=(T…"
      ]
     },
     "execution_count": 2,
     "metadata": {},
     "output_type": "execute_result"
    }
   ],
   "source": [
    "Map = geemap.Map(center=[40,-100], zoom=4)\n",
    "Map"
   ]
  },
  {
   "cell_type": "code",
   "execution_count": 3,
   "metadata": {},
   "outputs": [],
   "source": [
    "bounding_box = 'C:/Users/Jeremy/OneDrive/GIS/Blender/Ananya Map/Output/bounding_box.shp'\n",
    "aoi = geemap.shp_to_ee(bounding_box)\n",
    "aoi_geometry = aoi.geometry()\n",
    "\n",
    "Map.addLayer(aoi_geometry, {}, 'aoi')"
   ]
  },
  {
   "cell_type": "code",
   "execution_count": 4,
   "metadata": {},
   "outputs": [],
   "source": [
    "dataset = ee.Image('USGS/SRTMGL1_003') \\\n",
    "    #.filterBounds(aoi_geometry)\n",
    "elevation = dataset.select('elevation') \\\n",
    "    .clip(aoi_geometry)\n",
    "#image = elevation.mosaic()\n",
    "\n",
    "Map.addLayer(elevation, {min: 0, max: 8000}, 'SRTM')\n",
    "Map.centerObject(elevation)"
   ]
  },
  {
   "cell_type": "code",
   "execution_count": 6,
   "metadata": {},
   "outputs": [
    {
     "data": {
      "application/vnd.jupyter.widget-view+json": {
       "model_id": "e71e05896793478cbaa7d9c6a51bf4cd",
       "version_major": 2,
       "version_minor": 0
      },
      "text/plain": [
       "srtm_300m.tif: |          | 0.00/451M (raw) [  0.0%] in 00:00 (eta:     ?)"
      ]
     },
     "metadata": {},
     "output_type": "display_data"
    }
   ],
   "source": [
    "# Specify the parameters for downloading the image\n",
    "params = {\n",
    "    'image': elevation,\n",
    "    'filename': \"F:/Personal/GIS/Blender/Ananya Map/Assets/DEM/geemap/srtm_300m.tif\",\n",
    "    'scale': 300,\n",
    "    'crs': 'EPSG:4326',  # Specify the desired projection (e.g., WGS84)\n",
    "    'region': aoi_geometry  # Specify the region of interest for the download\n",
    "}\n",
    "geemap.download_ee_image(**params)"
   ]
  }
 ],
 "metadata": {
  "kernelspec": {
   "display_name": "gee",
   "language": "python",
   "name": "python3"
  },
  "language_info": {
   "codemirror_mode": {
    "name": "ipython",
    "version": 3
   },
   "file_extension": ".py",
   "mimetype": "text/x-python",
   "name": "python",
   "nbconvert_exporter": "python",
   "pygments_lexer": "ipython3",
   "version": "3.11.4"
  },
  "orig_nbformat": 4
 },
 "nbformat": 4,
 "nbformat_minor": 2
}
