{
 "cells": [
  {
   "cell_type": "code",
   "execution_count": 30,
   "metadata": {},
   "outputs": [],
   "source": [
    "#Import packages\n",
    "import geemap\n",
    "import geopandas\n",
    "import ee\n",
    "import os\n",
    "import rasterio\n",
    "from rasterio.merge import merge\n",
    "from rasterio.crs import CRS\n",
    "from rasterio.transform import from_origin\n",
    "import glob"
   ]
  },
  {
   "cell_type": "code",
   "execution_count": 31,
   "metadata": {},
   "outputs": [
    {
     "data": {
      "application/vnd.jupyter.widget-view+json": {
       "model_id": "b12baa791a7d4a1cbab7cf79346cef7c",
       "version_major": 2,
       "version_minor": 0
      },
      "text/plain": [
       "Map(center=[20, 85], controls=(WidgetControl(options=['position', 'transparent_bg'], widget=HBox(children=(Tog…"
      ]
     },
     "execution_count": 31,
     "metadata": {},
     "output_type": "execute_result"
    }
   ],
   "source": [
    "Map = geemap.Map(center=[20,85], zoom=4)\n",
    "Map"
   ]
  },
  {
   "cell_type": "code",
   "execution_count": 32,
   "metadata": {},
   "outputs": [],
   "source": [
    "#Load in aoi\n",
    "bounding_box = 'C:/Users/Jeremy/OneDrive/GIS/Blender/Ananya Map/Output/bounding_box.shp'\n",
    "aoi = geemap.shp_to_ee(bounding_box)\n",
    "aoi_geometry = aoi.geometry()\n",
    "\n",
    "#Add aoi_geometry bounding box to the map\n",
    "Map.addLayer(aoi_geometry, {}, 'aoi')\n",
    "\n",
    "#Centre the map over the aoi\n",
    "Map.centerObject(aoi_geometry, 11) \n",
    "  \n",
    "#Dates over which to create a median composite. Full dates are biased towards summer due to cloud coverage.\n",
    "start_date = ee.Date('2019-06-01')\n",
    "end_date = ee.Date('2019-09-30')\n",
    "\n",
    "#Set cloud filtering variables\n",
    "CLOUD_FILTER = 60\n",
    "CLD_PRB_THRESH = 50\n",
    "NIR_DRK_THRESH = 0.15\n",
    "CLD_PRJ_DIST = 1\n",
    "BUFFER = 50"
   ]
  },
  {
   "cell_type": "code",
   "execution_count": 33,
   "metadata": {},
   "outputs": [],
   "source": [
    "def get_s2_sr_cld_col(aoi_geometry, start_date, end_date):\n",
    "    # Import and filter S2 SR.\n",
    "    s2_sr_col = (ee.ImageCollection('COPERNICUS/S2_SR')\n",
    "        .filterBounds(aoi_geometry)\n",
    "        .filterDate(start_date, end_date)\n",
    "        .filter(ee.Filter.lte('CLOUDY_PIXEL_PERCENTAGE', CLOUD_FILTER)))\n",
    "\n",
    "    # Import and filter s2cloudless.\n",
    "    s2_cloudless_col = (ee.ImageCollection('COPERNICUS/S2_CLOUD_PROBABILITY')\n",
    "        .filterBounds(aoi_geometry)\n",
    "        .filterDate(start_date, end_date))\n",
    "\n",
    "    # Join the filtered s2cloudless collection to the SR collection by the 'system:index' property.\n",
    "    return ee.ImageCollection(ee.Join.saveFirst('s2cloudless').apply(**{\n",
    "        'primary': s2_sr_col,\n",
    "        'secondary': s2_cloudless_col,\n",
    "        'condition': ee.Filter.equals(**{\n",
    "            'leftField': 'system:index',\n",
    "            'rightField': 'system:index'\n",
    "        })\n",
    "    }))"
   ]
  },
  {
   "cell_type": "code",
   "execution_count": 34,
   "metadata": {},
   "outputs": [],
   "source": [
    "#Apply the get_s2_sr_cld_col function to build a collection according to the parameters defined above.\n",
    "s2_sr_cld_col = get_s2_sr_cld_col(aoi_geometry, start_date, end_date)"
   ]
  },
  {
   "cell_type": "code",
   "execution_count": 35,
   "metadata": {},
   "outputs": [],
   "source": [
    "#Define a function to add the s2cloudless probability layer and derived cloud mask as bands to an S2 SR image input.\n",
    "def add_cloud_bands(img):\n",
    "    # Get s2cloudless image, subset the probability band.\n",
    "    cld_prb = ee.Image(img.get('s2cloudless')).select('probability')\n",
    "\n",
    "    # Condition s2cloudless by the probability threshold value.\n",
    "    is_cloud = cld_prb.gt(CLD_PRB_THRESH).rename('clouds')\n",
    "\n",
    "    # Add the cloud probability layer and cloud mask as image bands.\n",
    "    return img.addBands(ee.Image([cld_prb, is_cloud]))"
   ]
  },
  {
   "cell_type": "code",
   "execution_count": 36,
   "metadata": {},
   "outputs": [],
   "source": [
    "def add_shadow_bands(img):\n",
    "    # Identify water pixels from the SCL band.\n",
    "    not_water = img.select('SCL').neq(6)\n",
    "\n",
    "    # Identify dark NIR pixels that are not water (potential cloud shadow pixels).\n",
    "    SR_BAND_SCALE = 1e4\n",
    "    dark_pixels = img.select('B8').lt(NIR_DRK_THRESH*SR_BAND_SCALE).multiply(not_water).rename('dark_pixels')\n",
    "\n",
    "    # Determine the direction to project cloud shadow from clouds (assumes UTM projection).\n",
    "    shadow_azimuth = ee.Number(90).subtract(ee.Number(img.get('MEAN_SOLAR_AZIMUTH_ANGLE')))\n",
    "\n",
    "    # Project shadows from clouds for the distance specified by the CLD_PRJ_DIST input.\n",
    "    cld_proj = (img.select('clouds').directionalDistanceTransform(shadow_azimuth, CLD_PRJ_DIST*10)\n",
    "        .reproject(**{'crs': img.select(0).projection(), 'scale': 100})\n",
    "        .select('distance')\n",
    "        .mask()\n",
    "        .rename('cloud_transform'))\n",
    "\n",
    "    # Identify the intersection of dark pixels with cloud shadow projection.\n",
    "    shadows = cld_proj.multiply(dark_pixels).rename('shadows')\n",
    "\n",
    "    # Add dark pixels, cloud projection, and identified shadows as image bands.\n",
    "    return img.addBands(ee.Image([dark_pixels, cld_proj, shadows]))"
   ]
  },
  {
   "cell_type": "code",
   "execution_count": 37,
   "metadata": {},
   "outputs": [],
   "source": [
    "def add_cld_shdw_mask(img):\n",
    "    # Add cloud component bands.\n",
    "    img_cloud = add_cloud_bands(img)\n",
    "\n",
    "    # Add cloud shadow component bands.\n",
    "    img_cloud_shadow = add_shadow_bands(img_cloud)\n",
    "\n",
    "    # Combine cloud and shadow mask, set cloud and shadow as value 1, else 0.\n",
    "    is_cld_shdw = img_cloud_shadow.select('clouds').add(img_cloud_shadow.select('shadows')).gt(0)\n",
    "\n",
    "    # Remove small cloud-shadow patches and dilate remaining pixels by BUFFER input.\n",
    "    # 20 m scale is for speed, and assumes clouds don't require 10 m precision.\n",
    "    is_cld_shdw = (is_cld_shdw.focalMin(2).focalMax(BUFFER*2/20)\n",
    "        .reproject(**{'crs': img.select([0]).projection(), 'scale': 20})\n",
    "        .rename('cloudmask'))\n",
    "\n",
    "    # Add the final cloud-shadow mask to the image.\n",
    "    return img_cloud_shadow.addBands(is_cld_shdw)"
   ]
  },
  {
   "cell_type": "code",
   "execution_count": 38,
   "metadata": {},
   "outputs": [],
   "source": [
    "def apply_cld_shdw_mask(img):\n",
    "    # Subset the cloudmask band and invert it so clouds/shadow are 0, else 1.\n",
    "    not_cld_shdw = img.select('cloudmask').Not()\n",
    "\n",
    "    # Subset reflectance bands and update their masks, return the result.\n",
    "    return img.select('B.*').updateMask(not_cld_shdw)"
   ]
  },
  {
   "cell_type": "code",
   "execution_count": 39,
   "metadata": {},
   "outputs": [],
   "source": [
    "s2_sr_median = (s2_sr_cld_col.map(add_cld_shdw_mask)\n",
    "                             .map(apply_cld_shdw_mask)\n",
    "                             .select(['B4', 'B3', 'B2'])  # Select bands 4 (Red), 3 (Green), and 2 (Blue)\n",
    "                             .median())"
   ]
  },
  {
   "cell_type": "code",
   "execution_count": 40,
   "metadata": {},
   "outputs": [],
   "source": [
    "#Visualise the composite image\n",
    "Map.addLayer(s2_sr_median, {'bands':['B4',  'B3',  'B2'], 'min':0, 'max':3000, 'gama':1.1}, 'Sentinel 2 Composite')"
   ]
  },
  {
   "cell_type": "code",
   "execution_count": 41,
   "metadata": {},
   "outputs": [],
   "source": [
    "#Sample region to test fishnet download\n",
    "region = aoi_geometry\n",
    "Map.addLayer(region, {}, 'ROI')\n",
    "Map.centerObject(region)"
   ]
  },
  {
   "cell_type": "code",
   "execution_count": 13,
   "metadata": {},
   "outputs": [],
   "source": [
    "#Create a fishnet for parallel downloading\n",
    "fishnet = geemap.fishnet(region, h_interval=5, v_interval=5, delta=0)\n",
    "\n",
    "#Style and add the fishnet to the map\n",
    "style = {'color': 'ffff00ff', 'fillColor': '00000000'}\n",
    "Map.addLayer(fishnet.style(**style), {}, 'Fishnet')"
   ]
  },
  {
   "cell_type": "code",
   "execution_count": null,
   "metadata": {},
   "outputs": [],
   "source": [
    "out_dir = 'H:\\Personal\\GIS\\Blender\\Ananya Map\\Assets\\S2\\Cloudless Composite 100m V2'\n",
    "geemap.download_ee_image_tiles(\n",
    "    s2_sr_median, \n",
    "    fishnet, \n",
    "    out_dir, \n",
    "    prefix=\"sentinel_\", \n",
    "    crs=\"EPSG:4326\", #Formerly EPSG:3857\n",
    "    scale=100,\n",
    "    max_tile_size= 10\n",
    ")"
   ]
  },
  {
   "cell_type": "code",
   "execution_count": 27,
   "metadata": {},
   "outputs": [],
   "source": [
    "#Experiment with looping through fishnet for export to google drive\n",
    "# Loop through each feature in the fishnet\n",
    "for feature in fishnet.getInfo()[\"features\"]:\n",
    "    tile = geemap.ee.Feature(feature)\n",
    "\n",
    "    # Clip the image to the current tile\n",
    "    clipped_image = s2_sr_median.clip(tile)\n",
    "\n",
    "    # Create an EE asset ID for exporting\n",
    "    asset_id = 'Earth Engine Outputs/S2_100m_V2'  # Replace with your own path or naming scheme\n",
    "\n",
    "    # Export the clipped image to Google Drive\n",
    "    clipped_image = clipped_image.toFloat()  # Ensure the data type is suitable for export\n",
    "    export_task = geemap.ee_export_image_to_drive(\n",
    "        image=clipped_image,\n",
    "        description=\"s2_cloudless_mosaic_tile_100m\",  # Add a description or naming scheme\n",
    "        folder=asset_id,  # Replace with your desired folder name or naming scheme\n",
    "        scale=100, # Replace with your desired scale, set to 100 for coarser resolution\n",
    "        crs=\"EPSG:4326\", \n",
    "        region=tile.geometry(),\n",
    "        maxPixels=10000000000000\n",
    "    )"
   ]
  },
  {
   "cell_type": "code",
   "execution_count": 42,
   "metadata": {},
   "outputs": [],
   "source": [
    "#Experiment with looping through orbit paths for export to google drive\n",
    "# Loop through each feature in the orbit paths shapefile\n",
    "orbit_paths = 'H:\\Personal\\GIS\\Blender\\Ananya Map\\Assets\\Vector\\orbit_bbox.shp'\n",
    "orbit_ee = geemap.shp_to_ee(orbit_paths)\n",
    "#Add aoi_geometry bounding box to the map\n",
    "Map.addLayer(orbit_ee, {}, 'orbit')"
   ]
  },
  {
   "cell_type": "code",
   "execution_count": 43,
   "metadata": {},
   "outputs": [],
   "source": [
    "for feature in orbit_ee.getInfo()[\"features\"]:\n",
    "    tile = geemap.ee.Feature(feature)\n",
    "\n",
    "    # Clip the image to the current tile\n",
    "    clipped_image = s2_sr_median.clip(tile)\n",
    "\n",
    "    # Create an EE asset ID for exporting\n",
    "    asset_id = 'Earth Engine Outputs/S2_100m_V3'  # Replace with your own path or naming scheme\n",
    "\n",
    "    # Export the clipped image to Google Drive\n",
    "    clipped_image = clipped_image.toFloat()  # Ensure the data type is suitable for export\n",
    "    export_task = geemap.ee_export_image_to_drive(\n",
    "        image=clipped_image,\n",
    "        description=\"s2_cloudless_mosaic_tile_100m\",  # Add a description or naming scheme\n",
    "        folder=asset_id,  # Replace with your desired folder name or naming scheme\n",
    "        scale=100, # Replace with your desired scale, set to 100 for coarser resolution\n",
    "        crs=\"EPSG:4326\", \n",
    "        region=tile.geometry(),\n",
    "        maxPixels=10000000000000\n",
    "    )"
   ]
  },
  {
   "cell_type": "code",
   "execution_count": 91,
   "metadata": {},
   "outputs": [],
   "source": [
    "#Export mosaiced image to Google Drive\n",
    "# Create an EE asset ID for exporting\n",
    "asset_id = 'Earth Engine Outputs - 100m_v2'  # Replace with your own path\n",
    "\n",
    "# Export the image to Google Drive\n",
    "s2_sr_median = s2_sr_median.toFloat()  # Ensure the data type is suitable for export\n",
    "export_task = geemap.ee_export_image_to_drive(\n",
    "    image=s2_sr_median,\n",
    "    description=\"s2_cloudless_mosaic\",\n",
    "    folder=asset_id,  # Replace with your desired folder name\n",
    "    scale=100,\n",
    "    crs=\"EPSG:4326\",\n",
    "    region=aoi_geometry,\n",
    "    maxPixels=10000000000000\n",
    ")\n",
    "# Wait for the export task to complete\n",
    "#while export_task.status()[\"state\"] in [\"READY\", \"RUNNING\"]:\n",
    " #   pass\n",
    "\n"
   ]
  },
  {
   "cell_type": "code",
   "execution_count": null,
   "metadata": {},
   "outputs": [],
   "source": [
    "# Once the export is complete, download the asset image\n",
    "asset_image = geemap.ee.Image(asset_id)\n",
    "download_url = asset_image.getDownloadURL({\n",
    "    'scale': 10,\n",
    "    'crs': 'EPSG:3857'\n",
    "})\n",
    "print(\"Download the asset image from the following URL:\", download_url)"
   ]
  },
  {
   "cell_type": "code",
   "execution_count": 60,
   "metadata": {},
   "outputs": [
    {
     "ename": "TypeError",
     "evalue": "Integer width and height are required.",
     "output_type": "error",
     "traceback": [
      "\u001b[1;31m---------------------------------------------------------------------------\u001b[0m",
      "\u001b[1;31mTypeError\u001b[0m                                 Traceback (most recent call last)",
      "File \u001b[1;32mrasterio\\_io.pyx:1413\u001b[0m, in \u001b[0;36mrasterio._io.DatasetWriterBase.__init__\u001b[1;34m()\u001b[0m\n",
      "\u001b[1;31mTypeError\u001b[0m: int() argument must be a string, a bytes-like object or a real number, not 'NoneType'",
      "\nDuring handling of the above exception, another exception occurred:\n",
      "\u001b[1;31mTypeError\u001b[0m                                 Traceback (most recent call last)",
      "\u001b[1;32mc:\\Users\\Jeremy\\OneDrive - UBC\\PhD\\Scripts\\Geemap\\geemap\\sentinel_data_download.ipynb Cell 18\u001b[0m line \u001b[0;36m1\n\u001b[0;32m     <a href='vscode-notebook-cell:/c%3A/Users/Jeremy/OneDrive%20-%20UBC/PhD/Scripts/Geemap/geemap/sentinel_data_download.ipynb#X20sZmlsZQ%3D%3D?line=15'>16</a>\u001b[0m output_path \u001b[39m=\u001b[39m \u001b[39m\"\u001b[39m\u001b[39mC:/Users/Jeremy/OneDrive/GIS/Blender/Ananya Map/Assets/S2 Test 2/Merged\u001b[39m\u001b[39m\"\u001b[39m\n\u001b[0;32m     <a href='vscode-notebook-cell:/c%3A/Users/Jeremy/OneDrive%20-%20UBC/PhD/Scripts/Geemap/geemap/sentinel_data_download.ipynb#X20sZmlsZQ%3D%3D?line=17'>18</a>\u001b[0m \u001b[39m# Write the mosaic to a new GeoTIFF file\u001b[39;00m\n\u001b[1;32m---> <a href='vscode-notebook-cell:/c%3A/Users/Jeremy/OneDrive%20-%20UBC/PhD/Scripts/Geemap/geemap/sentinel_data_download.ipynb#X20sZmlsZQ%3D%3D?line=18'>19</a>\u001b[0m \u001b[39mwith\u001b[39;00m rasterio\u001b[39m.\u001b[39;49mopen(output_path, \u001b[39m\"\u001b[39;49m\u001b[39mw\u001b[39;49m\u001b[39m\"\u001b[39;49m, driver\u001b[39m=\u001b[39;49m\u001b[39m\"\u001b[39;49m\u001b[39mGTiff\u001b[39;49m\u001b[39m\"\u001b[39;49m, crs\u001b[39m=\u001b[39;49mout_crs, transform\u001b[39m=\u001b[39;49mout_transform, dtype\u001b[39m=\u001b[39;49mmosaic\u001b[39m.\u001b[39;49mdtype, count\u001b[39m=\u001b[39;49m\u001b[39m1\u001b[39;49m) \u001b[39mas\u001b[39;00m dest:\n\u001b[0;32m     <a href='vscode-notebook-cell:/c%3A/Users/Jeremy/OneDrive%20-%20UBC/PhD/Scripts/Geemap/geemap/sentinel_data_download.ipynb#X20sZmlsZQ%3D%3D?line=19'>20</a>\u001b[0m     dest\u001b[39m.\u001b[39mwrite(mosaic, \u001b[39m1\u001b[39m)\n\u001b[0;32m     <a href='vscode-notebook-cell:/c%3A/Users/Jeremy/OneDrive%20-%20UBC/PhD/Scripts/Geemap/geemap/sentinel_data_download.ipynb#X20sZmlsZQ%3D%3D?line=21'>22</a>\u001b[0m \u001b[39m# Close all the opened datasets\u001b[39;00m\n",
      "File \u001b[1;32mc:\\Users\\Jeremy\\anaconda3\\envs\\gee\\Lib\\site-packages\\rasterio\\env.py:451\u001b[0m, in \u001b[0;36mensure_env_with_credentials.<locals>.wrapper\u001b[1;34m(*args, **kwds)\u001b[0m\n\u001b[0;32m    448\u001b[0m     session \u001b[39m=\u001b[39m DummySession()\n\u001b[0;32m    450\u001b[0m \u001b[39mwith\u001b[39;00m env_ctor(session\u001b[39m=\u001b[39msession):\n\u001b[1;32m--> 451\u001b[0m     \u001b[39mreturn\u001b[39;00m f(\u001b[39m*\u001b[39;49margs, \u001b[39m*\u001b[39;49m\u001b[39m*\u001b[39;49mkwds)\n",
      "File \u001b[1;32mc:\\Users\\Jeremy\\anaconda3\\envs\\gee\\Lib\\site-packages\\rasterio\\__init__.py:314\u001b[0m, in \u001b[0;36mopen\u001b[1;34m(fp, mode, driver, width, height, count, crs, transform, dtype, nodata, sharing, **kwargs)\u001b[0m\n\u001b[0;32m    312\u001b[0m writer \u001b[39m=\u001b[39m get_writer_for_driver(driver)\n\u001b[0;32m    313\u001b[0m \u001b[39mif\u001b[39;00m writer \u001b[39mis\u001b[39;00m \u001b[39mnot\u001b[39;00m \u001b[39mNone\u001b[39;00m:\n\u001b[1;32m--> 314\u001b[0m     dataset \u001b[39m=\u001b[39m writer(\n\u001b[0;32m    315\u001b[0m         path,\n\u001b[0;32m    316\u001b[0m         mode,\n\u001b[0;32m    317\u001b[0m         driver\u001b[39m=\u001b[39;49mdriver,\n\u001b[0;32m    318\u001b[0m         width\u001b[39m=\u001b[39;49mwidth,\n\u001b[0;32m    319\u001b[0m         height\u001b[39m=\u001b[39;49mheight,\n\u001b[0;32m    320\u001b[0m         count\u001b[39m=\u001b[39;49mcount,\n\u001b[0;32m    321\u001b[0m         crs\u001b[39m=\u001b[39;49mcrs,\n\u001b[0;32m    322\u001b[0m         transform\u001b[39m=\u001b[39;49mtransform,\n\u001b[0;32m    323\u001b[0m         dtype\u001b[39m=\u001b[39;49mdtype,\n\u001b[0;32m    324\u001b[0m         nodata\u001b[39m=\u001b[39;49mnodata,\n\u001b[0;32m    325\u001b[0m         sharing\u001b[39m=\u001b[39;49msharing,\n\u001b[0;32m    326\u001b[0m         \u001b[39m*\u001b[39;49m\u001b[39m*\u001b[39;49mkwargs\n\u001b[0;32m    327\u001b[0m     )\n\u001b[0;32m    328\u001b[0m \u001b[39melse\u001b[39;00m:\n\u001b[0;32m    329\u001b[0m     \u001b[39mraise\u001b[39;00m DriverCapabilityError(\n\u001b[0;32m    330\u001b[0m         \u001b[39m\"\u001b[39m\u001b[39mWriter does not exist for driver: \u001b[39m\u001b[39m%s\u001b[39;00m\u001b[39m\"\u001b[39m \u001b[39m%\u001b[39m \u001b[39mstr\u001b[39m(driver)\n\u001b[0;32m    331\u001b[0m     )\n",
      "File \u001b[1;32mrasterio\\_io.pyx:1416\u001b[0m, in \u001b[0;36mrasterio._io.DatasetWriterBase.__init__\u001b[1;34m()\u001b[0m\n",
      "\u001b[1;31mTypeError\u001b[0m: Integer width and height are required."
     ]
    }
   ],
   "source": [
    "# List all the downloaded Sentinel-2 images\n",
    "image_files = glob.glob(\"F:/Personal/GIS/Blender/Ananya Map/Assets/S2/Trial 1/*.tif\")\n",
    "\n",
    "# Read the images into a list of rasterio datasets\n",
    "datasets = [rasterio.open(image) for image in image_files]\n",
    "\n",
    "# Merge the images into a single mosaic\n",
    "mosaic, out_trans = merge(datasets)\n",
    "\n",
    "# Set the coordinate reference system (CRS) for the output mosaic\n",
    "out_crs = CRS.from_epsg(3857)\n",
    "\n",
    "# Set the geotransform parameters for the output mosaic\n",
    "out_transform = from_origin(out_trans.c, out_trans.f, out_trans.a, out_trans.e)\n",
    "\n",
    "output_path = \"C:/Users/Jeremy/OneDrive/GIS/Blender/Ananya Map/Assets/S2 Test 2/Merged\"\n",
    "\n",
    "# Write the mosaic to a new GeoTIFF file\n",
    "with rasterio.open(output_path, \"w\", driver=\"GTiff\", crs=out_crs, transform=out_transform, dtype=mosaic.dtype, count=1) as dest:\n",
    "    dest.write(mosaic, 1)\n",
    "\n",
    "# Close all the opened datasets\n",
    "for dataset in datasets:\n",
    "    dataset.close()\n",
    "\n",
    "print(f\"Mosaic saved to {output_path}\")\n"
   ]
  }
 ],
 "metadata": {
  "kernelspec": {
   "display_name": "gee",
   "language": "python",
   "name": "python3"
  },
  "language_info": {
   "codemirror_mode": {
    "name": "ipython",
    "version": 3
   },
   "file_extension": ".py",
   "mimetype": "text/x-python",
   "name": "python",
   "nbconvert_exporter": "python",
   "pygments_lexer": "ipython3",
   "version": "3.11.4"
  },
  "orig_nbformat": 4
 },
 "nbformat": 4,
 "nbformat_minor": 2
}
