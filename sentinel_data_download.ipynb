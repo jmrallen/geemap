{
 "cells": [
  {
   "cell_type": "code",
   "execution_count": 1,
   "metadata": {},
   "outputs": [],
   "source": [
    "#Import packages\n",
    "import geemap\n",
    "import geopandas\n",
    "import ee\n",
    "import os"
   ]
  },
  {
   "cell_type": "code",
   "execution_count": 35,
   "metadata": {},
   "outputs": [
    {
     "data": {
      "application/vnd.jupyter.widget-view+json": {
       "model_id": "9916cbb9ca13498c954910b606df4f51",
       "version_major": 2,
       "version_minor": 0
      },
      "text/plain": [
       "Map(center=[20, 85], controls=(WidgetControl(options=['position', 'transparent_bg'], widget=HBox(children=(Tog…"
      ]
     },
     "execution_count": 35,
     "metadata": {},
     "output_type": "execute_result"
    }
   ],
   "source": [
    "Map = geemap.Map(center=[20,85], zoom=4)\n",
    "Map"
   ]
  },
  {
   "cell_type": "code",
   "execution_count": 44,
   "metadata": {},
   "outputs": [],
   "source": [
    "#Load in aoi\n",
    "bounding_box = 'C:/Users/Jeremy/OneDrive/GIS/Blender/Ananya Map/Output/bounding_box.shp'\n",
    "aoi = geemap.shp_to_ee(bounding_box)\n",
    "aoi_geometry = aoi.geometry()\n",
    "\n",
    "#Add aoi_geometry bounding box to the map\n",
    "Map.addLayer(aoi_geometry, {}, 'aoi')\n",
    "\n",
    "#Centre the map over the aoi\n",
    "Map.centerObject(aoi_geometry, 11) \n",
    "  \n",
    "#Dates over which to create a median composite. Full dates are biased towards summer due to cloud coverage.\n",
    "start_date = ee.Date('2017-01-01')\n",
    "end_date = ee.Date('2023-05-30')\n",
    "\n",
    "#Set cloud filtering variables\n",
    "CLOUD_FILTER = 60\n",
    "CLD_PRB_THRESH = 50\n",
    "NIR_DRK_THRESH = 0.15\n",
    "CLD_PRJ_DIST = 1\n",
    "BUFFER = 50"
   ]
  },
  {
   "cell_type": "code",
   "execution_count": 40,
   "metadata": {},
   "outputs": [],
   "source": [
    "#Set image collections from GEE\n",
    "#Sentinel-2 Level 1C data.  Bands B7, B8, B8A and B10 from this dataset are needed as input to CDI and the cloud mask function.\n",
    "s2 = ee.ImageCollection('COPERNICUS/S2')\n",
    "#Cloud probability dataset.  The probability band is used in the cloud mask function.\n",
    "s2c = ee.ImageCollection('COPERNICUS/S2_CLOUD_PROBABILITY')\n",
    "#Sentinel-2 surface reflectance data for the composite.\n",
    "s2Sr = ee.ImageCollection('COPERNICUS/S2_SR')"
   ]
  },
  {
   "cell_type": "code",
   "execution_count": 53,
   "metadata": {},
   "outputs": [],
   "source": [
    "#Filter dataset from GEE\n",
    "#S2 L1C for Cloud Displacement Index (CDI) bands.\n",
    "s2 = s2.filterBounds(aoi_geometry) \\\n",
    "    .filterDate(start_date, end_date) \\\n",
    "    .select(['B7', 'B8', 'B8A', 'B10'])\n",
    "#S2Cloudless for the cloud probability band.\n",
    "s2c = s2c.filterDate(start_date, end_date) \\\n",
    "    .filterBounds(aoi_geometry)\n",
    "#S2 L2A for surface reflectance bands.\n",
    "s2Sr = s2Sr.filterDate(start_date, end_date) \\\n",
    "    .filterBounds(aoi_geometry) \\\n",
    "    .select(['B2', 'B3', 'B4', 'B5', 'B6'])"
   ]
  },
  {
   "cell_type": "code",
   "execution_count": 59,
   "metadata": {},
   "outputs": [],
   "source": [
    "Map.addLayer(s2Sr, {'bands':['B4',  'B3',  'B2'], 'min':0, 'max':3000, 'gama':1.1}, 'Sentinel 2 Composite')"
   ]
  },
  {
   "cell_type": "code",
   "execution_count": 60,
   "metadata": {},
   "outputs": [],
   "source": [
    "#Join two collections on their 'system:index' property. The propertyName parameter is the name of the property that references the joined image.\n",
    "def indexJoin(collectionA, collectionB, propertyName):\n",
    "    # Join the collections on 'system:index'\n",
    "    joined = ee.ImageCollection(\n",
    "        ee.Join.saveFirst(propertyName).apply(\n",
    "            primary=collectionA,\n",
    "            secondary=collectionB,\n",
    "            condition=ee.Filter.equals(\n",
    "                leftField='system:index',\n",
    "                rightField='system:index'\n",
    "            )\n",
    "        )\n",
    "    )\n",
    "\n",
    "    # Merge the bands of the joined image\n",
    "    def mergeBands(image):\n",
    "        return image.addBands(ee.Image(image.get(propertyName)))\n",
    "    return joined.map(mergeBands)"
   ]
  },
  {
   "cell_type": "code",
   "execution_count": 61,
   "metadata": {},
   "outputs": [],
   "source": [
    "def maskImage(image):\n",
    "    # Compute the cloud displacement index from the L1C bands.\n",
    "    cdi = ee.Algorithms.Sentinel2.CDI(image)\n",
    "    s2c = image.select('probability')\n",
    "    cirrus = image.select('B10').multiply(0.0001)\n",
    "\n",
    "    # Assume low-to-mid atmospheric clouds to be pixels where probability\n",
    "    # is greater than 70%, and CDI is less than -0.2. For higher atmosphere\n",
    "    # cirrus clouds, assume the cirrus band is greater than 0.02.\n",
    "    # The final cloud mask is one or both of these conditions.\n",
    "    # The higher the threshold, the more imagery is included and there is less chance of pixels being left na.\n",
    "    # There is however more chance of cloud being included.\n",
    "    isCloud = s2c.gt(70).And(cdi.lt(-0.2)).Or(cirrus.gt(0.02))\n",
    "\n",
    "    # Reproject is required to perform spatial operations at 20m scale.\n",
    "    # 20m scale is for speed, and assumes clouds don't require 10m precision.\n",
    "    isCloud = isCloud.focal_min(3).focal_max(16)\n",
    "    isCloud = isCloud.reproject(crs=cdi.projection(), scale=20)\n",
    "\n",
    "    # Project shadows from clouds we found in the last step. This assumes we're working in\n",
    "    # a UTM projection.\n",
    "    shadowAzimuth = ee.Number(90).subtract(ee.Number(image.get('MEAN_SOLAR_AZIMUTH_ANGLE')))\n",
    "\n",
    "    # With the following reproject, the shadows are projected 5km.\n",
    "    isCloud = isCloud.directionalDistanceTransform(shadowAzimuth, 50)\n",
    "    isCloud = isCloud.reproject(crs=cdi.projection(), scale=100)\n",
    "\n",
    "    isCloud = isCloud.select('distance').mask()\n",
    "    return image.select(['B2', 'B3', 'B4', 'B5', 'B6']).updateMask(isCloud.Not())"
   ]
  },
  {
   "cell_type": "code",
   "execution_count": 62,
   "metadata": {},
   "outputs": [],
   "source": [
    "# Join the cloud probability dataset to surface reflectance.\n",
    "withCloudProbability = indexJoin(s2Sr, s2c, 'cloud_probability')\n",
    "\n",
    "# Join the L1C data to get the bands needed for CDI.\n",
    "withS2L1C = indexJoin(withCloudProbability, s2, 'l1c')\n",
    "\n",
    "# Map the cloud masking function over the joined collection.\n",
    "masked = withS2L1C.map(maskImage)\n",
    "\n",
    "# Take the median, specifying a tileScale to avoid memory errors.\n",
    "median = masked.median() \\\n",
    "    .clip(aoi_geometry)"
   ]
  },
  {
   "cell_type": "code",
   "execution_count": 63,
   "metadata": {},
   "outputs": [],
   "source": [
    "Map.addLayer(median, {'bands':['B4',  'B3',  'B2'], 'min':0, 'max':3000, 'gama':1.1}, 'Sentinel 2 Composite')"
   ]
  },
  {
   "cell_type": "markdown",
   "metadata": {},
   "source": [
    "Below is testing from the Colab script"
   ]
  },
  {
   "cell_type": "code",
   "execution_count": 64,
   "metadata": {},
   "outputs": [],
   "source": [
    "def get_s2_sr_cld_col(aoi_geometry, start_date, end_date):\n",
    "    # Import and filter S2 SR.\n",
    "    s2_sr_col = (ee.ImageCollection('COPERNICUS/S2_SR')\n",
    "        .filterBounds(aoi_geometry)\n",
    "        .filterDate(start_date, end_date)\n",
    "        .filter(ee.Filter.lte('CLOUDY_PIXEL_PERCENTAGE', CLOUD_FILTER)))\n",
    "\n",
    "    # Import and filter s2cloudless.\n",
    "    s2_cloudless_col = (ee.ImageCollection('COPERNICUS/S2_CLOUD_PROBABILITY')\n",
    "        .filterBounds(aoi_geometry)\n",
    "        .filterDate(start_date, end_date))\n",
    "\n",
    "    # Join the filtered s2cloudless collection to the SR collection by the 'system:index' property.\n",
    "    return ee.ImageCollection(ee.Join.saveFirst('s2cloudless').apply(**{\n",
    "        'primary': s2_sr_col,\n",
    "        'secondary': s2_cloudless_col,\n",
    "        'condition': ee.Filter.equals(**{\n",
    "            'leftField': 'system:index',\n",
    "            'rightField': 'system:index'\n",
    "        })\n",
    "    }))"
   ]
  },
  {
   "cell_type": "code",
   "execution_count": 65,
   "metadata": {},
   "outputs": [],
   "source": [
    "s2_sr_cld_col = get_s2_sr_cld_col(aoi_geometry, start_date, end_date)"
   ]
  },
  {
   "cell_type": "code",
   "execution_count": 66,
   "metadata": {},
   "outputs": [],
   "source": [
    "def add_cloud_bands(img):\n",
    "    # Get s2cloudless image, subset the probability band.\n",
    "    cld_prb = ee.Image(img.get('s2cloudless')).select('probability')\n",
    "\n",
    "    # Condition s2cloudless by the probability threshold value.\n",
    "    is_cloud = cld_prb.gt(CLD_PRB_THRESH).rename('clouds')\n",
    "\n",
    "    # Add the cloud probability layer and cloud mask as image bands.\n",
    "    return img.addBands(ee.Image([cld_prb, is_cloud]))"
   ]
  },
  {
   "cell_type": "code",
   "execution_count": 67,
   "metadata": {},
   "outputs": [],
   "source": [
    "def add_shadow_bands(img):\n",
    "    # Identify water pixels from the SCL band.\n",
    "    not_water = img.select('SCL').neq(6)\n",
    "\n",
    "    # Identify dark NIR pixels that are not water (potential cloud shadow pixels).\n",
    "    SR_BAND_SCALE = 1e4\n",
    "    dark_pixels = img.select('B8').lt(NIR_DRK_THRESH*SR_BAND_SCALE).multiply(not_water).rename('dark_pixels')\n",
    "\n",
    "    # Determine the direction to project cloud shadow from clouds (assumes UTM projection).\n",
    "    shadow_azimuth = ee.Number(90).subtract(ee.Number(img.get('MEAN_SOLAR_AZIMUTH_ANGLE')))\n",
    "\n",
    "    # Project shadows from clouds for the distance specified by the CLD_PRJ_DIST input.\n",
    "    cld_proj = (img.select('clouds').directionalDistanceTransform(shadow_azimuth, CLD_PRJ_DIST*10)\n",
    "        .reproject(**{'crs': img.select(0).projection(), 'scale': 100})\n",
    "        .select('distance')\n",
    "        .mask()\n",
    "        .rename('cloud_transform'))\n",
    "\n",
    "    # Identify the intersection of dark pixels with cloud shadow projection.\n",
    "    shadows = cld_proj.multiply(dark_pixels).rename('shadows')\n",
    "\n",
    "    # Add dark pixels, cloud projection, and identified shadows as image bands.\n",
    "    return img.addBands(ee.Image([dark_pixels, cld_proj, shadows]))"
   ]
  },
  {
   "cell_type": "code",
   "execution_count": 68,
   "metadata": {},
   "outputs": [],
   "source": [
    "def add_cld_shdw_mask(img):\n",
    "    # Add cloud component bands.\n",
    "    img_cloud = add_cloud_bands(img)\n",
    "\n",
    "    # Add cloud shadow component bands.\n",
    "    img_cloud_shadow = add_shadow_bands(img_cloud)\n",
    "\n",
    "    # Combine cloud and shadow mask, set cloud and shadow as value 1, else 0.\n",
    "    is_cld_shdw = img_cloud_shadow.select('clouds').add(img_cloud_shadow.select('shadows')).gt(0)\n",
    "\n",
    "    # Remove small cloud-shadow patches and dilate remaining pixels by BUFFER input.\n",
    "    # 20 m scale is for speed, and assumes clouds don't require 10 m precision.\n",
    "    is_cld_shdw = (is_cld_shdw.focalMin(2).focalMax(BUFFER*2/20)\n",
    "        .reproject(**{'crs': img.select([0]).projection(), 'scale': 20})\n",
    "        .rename('cloudmask'))\n",
    "\n",
    "    # Add the final cloud-shadow mask to the image.\n",
    "    return img_cloud_shadow.addBands(is_cld_shdw)"
   ]
  },
  {
   "cell_type": "code",
   "execution_count": 69,
   "metadata": {},
   "outputs": [],
   "source": [
    "def apply_cld_shdw_mask(img):\n",
    "    # Subset the cloudmask band and invert it so clouds/shadow are 0, else 1.\n",
    "    not_cld_shdw = img.select('cloudmask').Not()\n",
    "\n",
    "    # Subset reflectance bands and update their masks, return the result.\n",
    "    return img.select('B.*').updateMask(not_cld_shdw)"
   ]
  },
  {
   "cell_type": "code",
   "execution_count": 70,
   "metadata": {},
   "outputs": [],
   "source": [
    "s2_sr_median = (s2_sr_cld_col.map(add_cld_shdw_mask)\n",
    "                             .map(apply_cld_shdw_mask)\n",
    "                             .median())"
   ]
  },
  {
   "cell_type": "code",
   "execution_count": 71,
   "metadata": {},
   "outputs": [],
   "source": [
    "Map.addLayer(s2_sr_median, {'bands':['B4',  'B3',  'B2'], 'min':0, 'max':3000, 'gama':1.1}, 'Sentinel 2 Composite')\n"
   ]
  }
 ],
 "metadata": {
  "kernelspec": {
   "display_name": "gee",
   "language": "python",
   "name": "python3"
  },
  "language_info": {
   "codemirror_mode": {
    "name": "ipython",
    "version": 3
   },
   "file_extension": ".py",
   "mimetype": "text/x-python",
   "name": "python",
   "nbconvert_exporter": "python",
   "pygments_lexer": "ipython3",
   "version": "3.11.4"
  },
  "orig_nbformat": 4
 },
 "nbformat": 4,
 "nbformat_minor": 2
}
