{
 "cells": [
  {
   "cell_type": "code",
   "execution_count": null,
   "metadata": {},
   "outputs": [],
   "source": [
    "import geemap\n",
    "import ee\n",
    "import os"
   ]
  },
  {
   "cell_type": "code",
   "execution_count": 2,
   "metadata": {},
   "outputs": [
    {
     "data": {
      "application/vnd.jupyter.widget-view+json": {
       "model_id": "c51a7dcd69b94cdda12eb72cf8bed65e",
       "version_major": 2,
       "version_minor": 0
      },
      "text/plain": [
       "Map(center=[40, -100], controls=(WidgetControl(options=['position', 'transparent_bg'], widget=HBox(children=(T…"
      ]
     },
     "execution_count": 2,
     "metadata": {},
     "output_type": "execute_result"
    }
   ],
   "source": [
    "Map = geemap.Map(center=[40,-100], zoom=4)\n",
    "Map"
   ]
  },
  {
   "cell_type": "code",
   "execution_count": 3,
   "metadata": {},
   "outputs": [],
   "source": [
    "clipping_shape = 'C:/Users/Jeremy/OneDrive - UBC/PhD/GIS/Projects/Study Sites/Pamirs Study Site/Output Data/Tesselation/A-1.shp'\n",
    "clipping = geemap.shp_to_ee(clipping_shape)\n",
    "clipping_geometry = clipping.geometry()\n",
    "\n",
    "Map.addLayer(clipping_geometry, {}, 'clipping')"
   ]
  },
  {
   "cell_type": "code",
   "execution_count": 4,
   "metadata": {},
   "outputs": [],
   "source": [
    "dataset = ee.ImageCollection('LANDSAT/LC08/C01/T1_32DAY_NDVI') \\\n",
    "    .filterDate('2018-07-01', '2018-08-31') \\\n",
    "    .filterBounds(clipping_geometry)\n",
    "colorized = dataset.select('NDVI') \\\n",
    "    .filterBounds(clipping_geometry)\n",
    "image = colorized.mosaic()\n",
    "\n",
    "Map.addLayer(colorized, {}, 'Landsat')\n",
    "Map.centerObject(colorized)"
   ]
  },
  {
   "cell_type": "code",
   "execution_count": 5,
   "metadata": {},
   "outputs": [
    {
     "data": {
      "application/vnd.jupyter.widget-view+json": {
       "model_id": "65c49867c39d47bc8a4fc602e44333ba",
       "version_major": 2,
       "version_minor": 0
      },
      "text/plain": [
       "landsat.tif: |          | 0.00/5.69M (raw) [  0.0%] in 00:00 (eta:     ?)"
      ]
     },
     "metadata": {},
     "output_type": "display_data"
    },
    {
     "name": "stderr",
     "output_type": "stream",
     "text": [
      "There is no STAC entry for: None\n"
     ]
    }
   ],
   "source": [
    "# Specify the parameters for downloading the image\n",
    "params = {\n",
    "    'image': image,\n",
    "    'filename': \"landsat.tif\",\n",
    "    'scale': 100,\n",
    "    'crs': 'EPSG:4326',  # Specify the desired projection (e.g., WGS84)\n",
    "    'region': clipping_geometry  # Specify the region of interest for the download\n",
    "}\n",
    "geemap.download_ee_image(**params)"
   ]
  }
 ],
 "metadata": {
  "kernelspec": {
   "display_name": "gee",
   "language": "python",
   "name": "python3"
  },
  "language_info": {
   "codemirror_mode": {
    "name": "ipython",
    "version": 3
   },
   "file_extension": ".py",
   "mimetype": "text/x-python",
   "name": "python",
   "nbconvert_exporter": "python",
   "pygments_lexer": "ipython3",
   "version": "3.11.4"
  },
  "orig_nbformat": 4
 },
 "nbformat": 4,
 "nbformat_minor": 2
}
