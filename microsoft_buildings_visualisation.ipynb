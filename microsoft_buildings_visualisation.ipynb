{
 "cells": [
  {
   "cell_type": "code",
   "execution_count": 5,
   "metadata": {},
   "outputs": [],
   "source": [
    "import leafmap\n",
    "import geopandas as gpd\n",
    "import geemap"
   ]
  },
  {
   "cell_type": "code",
   "execution_count": 2,
   "metadata": {},
   "outputs": [],
   "source": [
    "gdf = gpd.read_file('C:/Users/Jeremy/OneDrive - UBC/PhD\\Data/Vector/Human Geometry/Microsoft Buildings/Afghanistan/Afghanistan.geojsonl')"
   ]
  },
  {
   "cell_type": "code",
   "execution_count": 8,
   "metadata": {},
   "outputs": [
    {
     "data": {
      "text/html": [
       "<div>\n",
       "<style scoped>\n",
       "    .dataframe tbody tr th:only-of-type {\n",
       "        vertical-align: middle;\n",
       "    }\n",
       "\n",
       "    .dataframe tbody tr th {\n",
       "        vertical-align: top;\n",
       "    }\n",
       "\n",
       "    .dataframe thead th {\n",
       "        text-align: right;\n",
       "    }\n",
       "</style>\n",
       "<table border=\"1\" class=\"dataframe\">\n",
       "  <thead>\n",
       "    <tr style=\"text-align: right;\">\n",
       "      <th></th>\n",
       "      <th>geometry</th>\n",
       "    </tr>\n",
       "  </thead>\n",
       "  <tbody>\n",
       "    <tr>\n",
       "      <th>0</th>\n",
       "      <td>POLYGON ((64.66736 31.78833, 64.66740 31.78833...</td>\n",
       "    </tr>\n",
       "    <tr>\n",
       "      <th>1</th>\n",
       "      <td>POLYGON ((65.70509 31.60002, 65.70509 31.59998...</td>\n",
       "    </tr>\n",
       "    <tr>\n",
       "      <th>2</th>\n",
       "      <td>POLYGON ((70.37113 34.36069, 70.37113 34.36065...</td>\n",
       "    </tr>\n",
       "    <tr>\n",
       "      <th>3</th>\n",
       "      <td>POLYGON ((69.40212 36.44538, 69.40217 36.44536...</td>\n",
       "    </tr>\n",
       "    <tr>\n",
       "      <th>4</th>\n",
       "      <td>POLYGON ((68.38137 33.56992, 68.38133 33.56993...</td>\n",
       "    </tr>\n",
       "    <tr>\n",
       "      <th>...</th>\n",
       "      <td>...</td>\n",
       "    </tr>\n",
       "    <tr>\n",
       "      <th>6588693</th>\n",
       "      <td>POLYGON ((69.11262 36.06182, 69.11263 36.06192...</td>\n",
       "    </tr>\n",
       "    <tr>\n",
       "      <th>6588694</th>\n",
       "      <td>POLYGON ((69.03360 33.96139, 69.03359 33.96141...</td>\n",
       "    </tr>\n",
       "    <tr>\n",
       "      <th>6588695</th>\n",
       "      <td>POLYGON ((66.06476 35.93583, 66.06478 35.93587...</td>\n",
       "    </tr>\n",
       "    <tr>\n",
       "      <th>6588696</th>\n",
       "      <td>POLYGON ((68.69319 35.98469, 68.69328 35.98469...</td>\n",
       "    </tr>\n",
       "    <tr>\n",
       "      <th>6588697</th>\n",
       "      <td>POLYGON ((67.09716 32.87405, 67.09736 32.87404...</td>\n",
       "    </tr>\n",
       "  </tbody>\n",
       "</table>\n",
       "<p>6588698 rows × 1 columns</p>\n",
       "</div>"
      ],
      "text/plain": [
       "                                                  geometry\n",
       "0        POLYGON ((64.66736 31.78833, 64.66740 31.78833...\n",
       "1        POLYGON ((65.70509 31.60002, 65.70509 31.59998...\n",
       "2        POLYGON ((70.37113 34.36069, 70.37113 34.36065...\n",
       "3        POLYGON ((69.40212 36.44538, 69.40217 36.44536...\n",
       "4        POLYGON ((68.38137 33.56992, 68.38133 33.56993...\n",
       "...                                                    ...\n",
       "6588693  POLYGON ((69.11262 36.06182, 69.11263 36.06192...\n",
       "6588694  POLYGON ((69.03360 33.96139, 69.03359 33.96141...\n",
       "6588695  POLYGON ((66.06476 35.93583, 66.06478 35.93587...\n",
       "6588696  POLYGON ((68.69319 35.98469, 68.69328 35.98469...\n",
       "6588697  POLYGON ((67.09716 32.87405, 67.09736 32.87404...\n",
       "\n",
       "[6588698 rows x 1 columns]"
      ]
     },
     "execution_count": 8,
     "metadata": {},
     "output_type": "execute_result"
    }
   ],
   "source": [
    "gdf"
   ]
  },
  {
   "cell_type": "code",
   "execution_count": 9,
   "metadata": {},
   "outputs": [],
   "source": [
    "#Export the geodataframe to a shapefile\n",
    "gdf.to_file('C:/Users/Jeremy/OneDrive - UBC/PhD/Data/Vector/Human Geometry/Microsoft Buildings/Afghanistan/Afghanistan.shp')"
   ]
  }
 ],
 "metadata": {
  "kernelspec": {
   "display_name": "geemap",
   "language": "python",
   "name": "python3"
  },
  "language_info": {
   "codemirror_mode": {
    "name": "ipython",
    "version": 3
   },
   "file_extension": ".py",
   "mimetype": "text/x-python",
   "name": "python",
   "nbconvert_exporter": "python",
   "pygments_lexer": "ipython3",
   "version": "3.11.4"
  }
 },
 "nbformat": 4,
 "nbformat_minor": 2
}
