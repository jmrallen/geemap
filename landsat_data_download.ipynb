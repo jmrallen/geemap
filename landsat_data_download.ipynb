{
 "cells": [
  {
   "cell_type": "code",
   "execution_count": 1,
   "metadata": {},
   "outputs": [],
   "source": [
    "import geemap\n",
    "import geopandas\n",
    "import ee\n",
    "import os"
   ]
  },
  {
   "cell_type": "code",
   "execution_count": 2,
   "metadata": {},
   "outputs": [
    {
     "data": {
      "application/vnd.jupyter.widget-view+json": {
       "model_id": "b59220de76054758808cf4dcb1aba545",
       "version_major": 2,
       "version_minor": 0
      },
      "text/plain": [
       "Map(center=[40, -100], controls=(WidgetControl(options=['position', 'transparent_bg'], widget=HBox(children=(T…"
      ]
     },
     "execution_count": 2,
     "metadata": {},
     "output_type": "execute_result"
    }
   ],
   "source": [
    "Map = geemap.Map(center=[40,-100], zoom=4)\n",
    "Map"
   ]
  },
  {
   "cell_type": "code",
   "execution_count": 8,
   "metadata": {},
   "outputs": [],
   "source": [
    "clipping_shape = 'C:/Users/Jeremy/OneDrive/GIS/Blender/Walkthrough/bounding_box.shp'\n",
    "clipping = geemap.shp_to_ee(clipping_shape)\n",
    "clipping_geometry = clipping.geometry()\n",
    "\n",
    "Map.addLayer(clipping_geometry, {}, 'clipping')"
   ]
  },
  {
   "cell_type": "code",
   "execution_count": 9,
   "metadata": {},
   "outputs": [],
   "source": [
    "# A function that scales and masks Landsat 8 (C2) surface reflectance images.\n",
    "# Source: https://gis.stackexchange.com/questions/425159/how-to-make-a-cloud-free-composite-for-landsat-8-collection-2-surface-reflectanc\n",
    "def prepSrL8(image):\n",
    "  # Develop masks for unwanted pixels (fill, cloud, cloud shadow).\n",
    "  qaMask = image.select('QA_PIXEL').bitwiseAnd(int('11111', 2)).eq(0)\n",
    "  saturationMask = image.select('QA_RADSAT').eq(0)\n",
    "\n",
    "  # Apply the scaling factors to the appropriate bands.\n",
    "  def getFactorImg(factorNames):\n",
    "    factorList = image.toDictionary().select(factorNames).values()\n",
    "    return ee.Image.constant(factorList)\n",
    "\n",
    "  scaleImg = getFactorImg([\n",
    "    'REFLECTANCE_MULT_BAND_.|TEMPERATURE_MULT_BAND_ST_B10'])\n",
    "  offsetImg = getFactorImg([\n",
    "    'REFLECTANCE_ADD_BAND_.|TEMPERATURE_ADD_BAND_ST_B10'])\n",
    "  scaled = image.select('SR_B.|ST_B10').multiply(scaleImg).add(offsetImg)\n",
    "\n",
    "  # Replace original bands with scaled bands and apply masks.\n",
    "  return image.addBands(scaled, None, True) \\\n",
    "    .updateMask(qaMask).updateMask(saturationMask)"
   ]
  },
  {
   "cell_type": "code",
   "execution_count": 10,
   "metadata": {},
   "outputs": [],
   "source": [
    "# Landsat 8 Collection 2 surface reflectance images of interest.\n",
    "ls8_comp_per_year = ee.ImageCollection([]); # Create an empty image collection to store composites.\n",
    "\n",
    "# Define the time range.\n",
    "startYear = 2020\n",
    "endYear = 2020\n",
    "years = list(range(startYear, endYear, 1))\n",
    "\n",
    "#Loop through years to get a summer cloud free composite of study area\n",
    "for year in years:\n",
    "\n",
    "  #Set date range\n",
    "  startDate = ee.Date.fromYMD(year, 6, 1)\n",
    "  endDate = ee.Date.fromYMD(year, 8, 31)\n",
    "\n",
    "  #Generate composite from collection\n",
    "  composite = ee.ImageCollection('LANDSAT/LC08/C02/T1_L2') \\\n",
    "    .filterBounds(clipping_geometry) \\\n",
    "    .filterDate(startDate, endDate) \\\n",
    "    .filter(ee.Filter.calendarRange(5, 8, 'month')) \\\n",
    "    .map(prepSrL8) \\\n",
    "    .select('SR_B.|ST_B10') \\\n",
    "    .median() \\\n",
    "    .clip(clipping_geometry)\n",
    "\n",
    "  #Add year to metadata\n",
    "  composite = composite.set('year', year)\n",
    "\n",
    "  #Append year composite to collection\n",
    "  ls8_comp_per_year = ls8_comp_per_year.merge(composite); # Add the composite to the collection."
   ]
  },
  {
   "cell_type": "code",
   "execution_count": 15,
   "metadata": {},
   "outputs": [
    {
     "ename": "EEException",
     "evalue": "Image.visualize: Parameter 'image' is required.",
     "output_type": "error",
     "traceback": [
      "\u001b[1;31m---------------------------------------------------------------------------\u001b[0m",
      "\u001b[1;31mHttpError\u001b[0m                                 Traceback (most recent call last)",
      "File \u001b[1;32mc:\\Users\\Jeremy\\anaconda3\\envs\\gee\\Lib\\site-packages\\ee\\data.py:345\u001b[0m, in \u001b[0;36m_execute_cloud_call\u001b[1;34m(call, num_retries)\u001b[0m\n\u001b[0;32m    344\u001b[0m \u001b[39mtry\u001b[39;00m:\n\u001b[1;32m--> 345\u001b[0m   \u001b[39mreturn\u001b[39;00m call\u001b[39m.\u001b[39;49mexecute(num_retries\u001b[39m=\u001b[39;49mnum_retries)\n\u001b[0;32m    346\u001b[0m \u001b[39mexcept\u001b[39;00m googleapiclient\u001b[39m.\u001b[39merrors\u001b[39m.\u001b[39mHttpError \u001b[39mas\u001b[39;00m e:\n",
      "File \u001b[1;32mc:\\Users\\Jeremy\\anaconda3\\envs\\gee\\Lib\\site-packages\\googleapiclient\\_helpers.py:130\u001b[0m, in \u001b[0;36mpositional.<locals>.positional_decorator.<locals>.positional_wrapper\u001b[1;34m(*args, **kwargs)\u001b[0m\n\u001b[0;32m    129\u001b[0m         logger\u001b[39m.\u001b[39mwarning(message)\n\u001b[1;32m--> 130\u001b[0m \u001b[39mreturn\u001b[39;00m wrapped(\u001b[39m*\u001b[39;49margs, \u001b[39m*\u001b[39;49m\u001b[39m*\u001b[39;49mkwargs)\n",
      "File \u001b[1;32mc:\\Users\\Jeremy\\anaconda3\\envs\\gee\\Lib\\site-packages\\googleapiclient\\http.py:938\u001b[0m, in \u001b[0;36mHttpRequest.execute\u001b[1;34m(self, http, num_retries)\u001b[0m\n\u001b[0;32m    937\u001b[0m \u001b[39mif\u001b[39;00m resp\u001b[39m.\u001b[39mstatus \u001b[39m>\u001b[39m\u001b[39m=\u001b[39m \u001b[39m300\u001b[39m:\n\u001b[1;32m--> 938\u001b[0m     \u001b[39mraise\u001b[39;00m HttpError(resp, content, uri\u001b[39m=\u001b[39m\u001b[39mself\u001b[39m\u001b[39m.\u001b[39muri)\n\u001b[0;32m    939\u001b[0m \u001b[39mreturn\u001b[39;00m \u001b[39mself\u001b[39m\u001b[39m.\u001b[39mpostproc(resp, content)\n",
      "\u001b[1;31mHttpError\u001b[0m: <HttpError 400 when requesting https://earthengine.googleapis.com/v1alpha/projects/earthengine-legacy/maps?fields=name&alt=json returned \"Image.visualize: Parameter 'image' is required.\". Details: \"Image.visualize: Parameter 'image' is required.\">",
      "\nDuring handling of the above exception, another exception occurred:\n",
      "\u001b[1;31mEEException\u001b[0m                               Traceback (most recent call last)",
      "\u001b[1;32mc:\\Users\\Jeremy\\OneDrive - UBC\\PhD\\Scripts\\Geemap\\geemap\\landsat_data_download.ipynb Cell 6\u001b[0m line \u001b[0;36m9\n\u001b[0;32m      <a href='vscode-notebook-cell:/c%3A/Users/Jeremy/OneDrive%20-%20UBC/PhD/Scripts/Geemap/geemap/landsat_data_download.ipynb#W5sZmlsZQ%3D%3D?line=3'>4</a>\u001b[0m composite2020 \u001b[39m=\u001b[39m ls8_comp_per_year\u001b[39m.\u001b[39mfilterMetadata(\u001b[39m'\u001b[39m\u001b[39myear\u001b[39m\u001b[39m'\u001b[39m, \u001b[39m'\u001b[39m\u001b[39mequals\u001b[39m\u001b[39m'\u001b[39m, \u001b[39m2020\u001b[39m)\u001b[39m.\u001b[39mfirst()\n\u001b[0;32m      <a href='vscode-notebook-cell:/c%3A/Users/Jeremy/OneDrive%20-%20UBC/PhD/Scripts/Geemap/geemap/landsat_data_download.ipynb#W5sZmlsZQ%3D%3D?line=5'>6</a>\u001b[0m \u001b[39m#Plot composite images for three years\u001b[39;00m\n\u001b[0;32m      <a href='vscode-notebook-cell:/c%3A/Users/Jeremy/OneDrive%20-%20UBC/PhD/Scripts/Geemap/geemap/landsat_data_download.ipynb#W5sZmlsZQ%3D%3D?line=6'>7</a>\u001b[0m \u001b[39m#Map.addLayer(composite2016, {'bands':['SR_B4',  'SR_B3',  'SR_B2'], 'min':0, 'max':0.3}, 'Landsat-8 2016 Composite')\u001b[39;00m\n\u001b[0;32m      <a href='vscode-notebook-cell:/c%3A/Users/Jeremy/OneDrive%20-%20UBC/PhD/Scripts/Geemap/geemap/landsat_data_download.ipynb#W5sZmlsZQ%3D%3D?line=7'>8</a>\u001b[0m \u001b[39m#Map.addLayer(composite2018, {'bands':['SR_B4',  'SR_B3',  'SR_B2'], 'min':0, 'max':0.3}, 'Landsat-8 2018 Composite')\u001b[39;00m\n\u001b[1;32m----> <a href='vscode-notebook-cell:/c%3A/Users/Jeremy/OneDrive%20-%20UBC/PhD/Scripts/Geemap/geemap/landsat_data_download.ipynb#W5sZmlsZQ%3D%3D?line=8'>9</a>\u001b[0m Map\u001b[39m.\u001b[39;49maddLayer(composite2020, {\u001b[39m'\u001b[39;49m\u001b[39mbands\u001b[39;49m\u001b[39m'\u001b[39;49m:[\u001b[39m'\u001b[39;49m\u001b[39mSR_B4\u001b[39;49m\u001b[39m'\u001b[39;49m,  \u001b[39m'\u001b[39;49m\u001b[39mSR_B3\u001b[39;49m\u001b[39m'\u001b[39;49m,  \u001b[39m'\u001b[39;49m\u001b[39mSR_B2\u001b[39;49m\u001b[39m'\u001b[39;49m], \u001b[39m'\u001b[39;49m\u001b[39mmin\u001b[39;49m\u001b[39m'\u001b[39;49m:\u001b[39m0\u001b[39;49m, \u001b[39m'\u001b[39;49m\u001b[39mmax\u001b[39;49m\u001b[39m'\u001b[39;49m:\u001b[39m0.3\u001b[39;49m}, \u001b[39m'\u001b[39;49m\u001b[39mLandsat-8 2020 Composite\u001b[39;49m\u001b[39m'\u001b[39;49m)\n",
      "File \u001b[1;32mc:\\Users\\Jeremy\\anaconda3\\envs\\gee\\Lib\\site-packages\\geemap\\geemap.py:303\u001b[0m, in \u001b[0;36mMap.add_ee_layer\u001b[1;34m(self, ee_object, vis_params, name, shown, opacity)\u001b[0m\n\u001b[0;32m    301\u001b[0m     layer_count \u001b[39m=\u001b[39m \u001b[39mlen\u001b[39m(\u001b[39mself\u001b[39m\u001b[39m.\u001b[39mlayers)\n\u001b[0;32m    302\u001b[0m     name \u001b[39m=\u001b[39m \u001b[39m\"\u001b[39m\u001b[39mLayer \u001b[39m\u001b[39m\"\u001b[39m \u001b[39m+\u001b[39m \u001b[39mstr\u001b[39m(layer_count \u001b[39m+\u001b[39m \u001b[39m1\u001b[39m)\n\u001b[1;32m--> 303\u001b[0m tile_layer \u001b[39m=\u001b[39m EELeafletTileLayer(ee_object, vis_params, name, shown, opacity)\n\u001b[0;32m    305\u001b[0m layer \u001b[39m=\u001b[39m \u001b[39mself\u001b[39m\u001b[39m.\u001b[39mfind_layer(name\u001b[39m=\u001b[39mname)\n\u001b[0;32m    306\u001b[0m \u001b[39mif\u001b[39;00m layer \u001b[39mis\u001b[39;00m \u001b[39mnot\u001b[39;00m \u001b[39mNone\u001b[39;00m:\n",
      "File \u001b[1;32mc:\\Users\\Jeremy\\anaconda3\\envs\\gee\\Lib\\site-packages\\geemap\\ee_tile_layers.py:130\u001b[0m, in \u001b[0;36mEELeafletTileLayer.__init__\u001b[1;34m(self, ee_object, vis_params, name, shown, opacity, **kwargs)\u001b[0m\n\u001b[0;32m    112\u001b[0m \u001b[39mdef\u001b[39;00m \u001b[39m__init__\u001b[39m(\n\u001b[0;32m    113\u001b[0m     \u001b[39mself\u001b[39m,\n\u001b[0;32m    114\u001b[0m     ee_object,\n\u001b[1;32m   (...)\u001b[0m\n\u001b[0;32m    119\u001b[0m     \u001b[39m*\u001b[39m\u001b[39m*\u001b[39mkwargs,\n\u001b[0;32m    120\u001b[0m ):\n\u001b[0;32m    121\u001b[0m \u001b[39m    \u001b[39m\u001b[39m\"\"\"Initialize the ipyleaflet tile layer.\u001b[39;00m\n\u001b[0;32m    122\u001b[0m \n\u001b[0;32m    123\u001b[0m \u001b[39m    Args:\u001b[39;00m\n\u001b[1;32m   (...)\u001b[0m\n\u001b[0;32m    128\u001b[0m \u001b[39m        opacity (float, optional): The layer's opacity represented as a number between 0 and 1. Defaults to 1.\u001b[39;00m\n\u001b[0;32m    129\u001b[0m \u001b[39m    \"\"\"\u001b[39;00m\n\u001b[1;32m--> 130\u001b[0m     \u001b[39mself\u001b[39m\u001b[39m.\u001b[39murl_format \u001b[39m=\u001b[39m _get_tile_url_format(ee_object, _validate_vis_params(vis_params))\n\u001b[0;32m    131\u001b[0m     \u001b[39msuper\u001b[39m()\u001b[39m.\u001b[39m\u001b[39m__init__\u001b[39m(\n\u001b[0;32m    132\u001b[0m         url\u001b[39m=\u001b[39m\u001b[39mself\u001b[39m\u001b[39m.\u001b[39murl_format,\n\u001b[0;32m    133\u001b[0m         attribution\u001b[39m=\u001b[39m\u001b[39m\"\u001b[39m\u001b[39mGoogle Earth Engine\u001b[39m\u001b[39m\"\u001b[39m,\n\u001b[1;32m   (...)\u001b[0m\n\u001b[0;32m    138\u001b[0m         \u001b[39m*\u001b[39m\u001b[39m*\u001b[39mkwargs,\n\u001b[0;32m    139\u001b[0m     )\n",
      "File \u001b[1;32mc:\\Users\\Jeremy\\anaconda3\\envs\\gee\\Lib\\site-packages\\geemap\\ee_tile_layers.py:18\u001b[0m, in \u001b[0;36m_get_tile_url_format\u001b[1;34m(ee_object, vis_params)\u001b[0m\n\u001b[0;32m     16\u001b[0m \u001b[39mdef\u001b[39;00m \u001b[39m_get_tile_url_format\u001b[39m(ee_object, vis_params):\n\u001b[0;32m     17\u001b[0m     image \u001b[39m=\u001b[39m _ee_object_to_image(ee_object, vis_params)\n\u001b[1;32m---> 18\u001b[0m     map_id_dict \u001b[39m=\u001b[39m ee\u001b[39m.\u001b[39;49mImage(image)\u001b[39m.\u001b[39;49mgetMapId(vis_params)\n\u001b[0;32m     19\u001b[0m     \u001b[39mreturn\u001b[39;00m map_id_dict[\u001b[39m\"\u001b[39m\u001b[39mtile_fetcher\u001b[39m\u001b[39m\"\u001b[39m]\u001b[39m.\u001b[39murl_format\n",
      "File \u001b[1;32mc:\\Users\\Jeremy\\anaconda3\\envs\\gee\\Lib\\site-packages\\ee\\image.py:130\u001b[0m, in \u001b[0;36mImage.getMapId\u001b[1;34m(self, vis_params)\u001b[0m\n\u001b[0;32m    128\u001b[0m vis_image, request \u001b[39m=\u001b[39m \u001b[39mself\u001b[39m\u001b[39m.\u001b[39m_apply_visualization(vis_params)\n\u001b[0;32m    129\u001b[0m request[\u001b[39m'\u001b[39m\u001b[39mimage\u001b[39m\u001b[39m'\u001b[39m] \u001b[39m=\u001b[39m vis_image\n\u001b[1;32m--> 130\u001b[0m response \u001b[39m=\u001b[39m data\u001b[39m.\u001b[39;49mgetMapId(request)\n\u001b[0;32m    131\u001b[0m response[\u001b[39m'\u001b[39m\u001b[39mimage\u001b[39m\u001b[39m'\u001b[39m] \u001b[39m=\u001b[39m \u001b[39mself\u001b[39m\n\u001b[0;32m    132\u001b[0m \u001b[39mreturn\u001b[39;00m response\n",
      "File \u001b[1;32mc:\\Users\\Jeremy\\anaconda3\\envs\\gee\\Lib\\site-packages\\ee\\data.py:647\u001b[0m, in \u001b[0;36mgetMapId\u001b[1;34m(params)\u001b[0m\n\u001b[0;32m    642\u001b[0m queryParams \u001b[39m=\u001b[39m {\n\u001b[0;32m    643\u001b[0m     \u001b[39m'\u001b[39m\u001b[39mfields\u001b[39m\u001b[39m'\u001b[39m: \u001b[39m'\u001b[39m\u001b[39mname\u001b[39m\u001b[39m'\u001b[39m,\n\u001b[0;32m    644\u001b[0m     \u001b[39m'\u001b[39m\u001b[39mbody\u001b[39m\u001b[39m'\u001b[39m: request,\n\u001b[0;32m    645\u001b[0m }\n\u001b[0;32m    646\u001b[0m _maybe_populate_workload_tag(queryParams)\n\u001b[1;32m--> 647\u001b[0m result \u001b[39m=\u001b[39m _execute_cloud_call(\n\u001b[0;32m    648\u001b[0m     _get_cloud_projects()\n\u001b[0;32m    649\u001b[0m     \u001b[39m.\u001b[39;49mmaps()\n\u001b[0;32m    650\u001b[0m     \u001b[39m.\u001b[39;49mcreate(parent\u001b[39m=\u001b[39;49m_get_projects_path(), \u001b[39m*\u001b[39;49m\u001b[39m*\u001b[39;49mqueryParams)\n\u001b[0;32m    651\u001b[0m )\n\u001b[0;32m    652\u001b[0m map_name \u001b[39m=\u001b[39m result[\u001b[39m'\u001b[39m\u001b[39mname\u001b[39m\u001b[39m'\u001b[39m]\n\u001b[0;32m    653\u001b[0m url_format \u001b[39m=\u001b[39m \u001b[39m'\u001b[39m\u001b[39m%s\u001b[39;00m\u001b[39m/\u001b[39m\u001b[39m%s\u001b[39;00m\u001b[39m/\u001b[39m\u001b[39m%s\u001b[39;00m\u001b[39m/tiles/\u001b[39m\u001b[39m{z}\u001b[39;00m\u001b[39m/\u001b[39m\u001b[39m{x}\u001b[39;00m\u001b[39m/\u001b[39m\u001b[39m{y}\u001b[39;00m\u001b[39m'\u001b[39m \u001b[39m%\u001b[39m (\n\u001b[0;32m    654\u001b[0m     _tile_base_url, _cloud_api_utils\u001b[39m.\u001b[39mVERSION, map_name)\n",
      "File \u001b[1;32mc:\\Users\\Jeremy\\anaconda3\\envs\\gee\\Lib\\site-packages\\ee\\data.py:347\u001b[0m, in \u001b[0;36m_execute_cloud_call\u001b[1;34m(call, num_retries)\u001b[0m\n\u001b[0;32m    345\u001b[0m   \u001b[39mreturn\u001b[39;00m call\u001b[39m.\u001b[39mexecute(num_retries\u001b[39m=\u001b[39mnum_retries)\n\u001b[0;32m    346\u001b[0m \u001b[39mexcept\u001b[39;00m googleapiclient\u001b[39m.\u001b[39merrors\u001b[39m.\u001b[39mHttpError \u001b[39mas\u001b[39;00m e:\n\u001b[1;32m--> 347\u001b[0m   \u001b[39mraise\u001b[39;00m _translate_cloud_exception(e)\n",
      "\u001b[1;31mEEException\u001b[0m: Image.visualize: Parameter 'image' is required."
     ]
    }
   ],
   "source": [
    "#Select images for 3 years\n",
    "composite2016 = ls8_comp_per_year.filterMetadata('year', 'equals', 2016).first()\n",
    "composite2018 = ls8_comp_per_year.filterMetadata('year', 'equals', 2018).first()\n",
    "composite2020 = ls8_comp_per_year.filterMetadata('year', 'equals', 2020).first()\n",
    "\n",
    "#Plot composite images for three years\n",
    "Map.addLayer(composite2016, {'bands':['SR_B4',  'SR_B3',  'SR_B2'], 'min':0, 'max':0.3}, 'Landsat-8 2016 Composite')\n",
    "Map.addLayer(composite2018, {'bands':['SR_B4',  'SR_B3',  'SR_B2'], 'min':0, 'max':0.3}, 'Landsat-8 2018 Composite')\n",
    "Map.addLayer(composite2020, {'bands':['SR_B4',  'SR_B3',  'SR_B2'], 'min':0, 'max':0.3}, 'Landsat-8 2020 Composite')"
   ]
  },
  {
   "cell_type": "code",
   "execution_count": 13,
   "metadata": {},
   "outputs": [],
   "source": [
    "#Create a grid to use for tiling the imagery (due to GEE memory limits...)\n",
    "grid = geemap.fishnet(clipping_geometry, rows=2, cols=2)\n",
    "Map.addLayer(grid, {}, 'Grids')"
   ]
  },
  {
   "cell_type": "code",
   "execution_count": 14,
   "metadata": {},
   "outputs": [
    {
     "ename": "TypeError",
     "evalue": "download_ee_image_tiles() missing 1 required positional argument: 'features'",
     "output_type": "error",
     "traceback": [
      "\u001b[1;31m---------------------------------------------------------------------------\u001b[0m",
      "\u001b[1;31mTypeError\u001b[0m                                 Traceback (most recent call last)",
      "\u001b[1;32mc:\\Users\\Jeremy\\OneDrive - UBC\\PhD\\Scripts\\Geemap\\geemap\\landsat_data_download.ipynb Cell 8\u001b[0m line \u001b[0;36m1\n\u001b[0;32m      <a href='vscode-notebook-cell:/c%3A/Users/Jeremy/OneDrive%20-%20UBC/PhD/Scripts/Geemap/geemap/landsat_data_download.ipynb#X10sZmlsZQ%3D%3D?line=0'>1</a>\u001b[0m \u001b[39m# Specify the parameters for downloading the image\u001b[39;00m\n\u001b[0;32m      <a href='vscode-notebook-cell:/c%3A/Users/Jeremy/OneDrive%20-%20UBC/PhD/Scripts/Geemap/geemap/landsat_data_download.ipynb#X10sZmlsZQ%3D%3D?line=1'>2</a>\u001b[0m params \u001b[39m=\u001b[39m {\n\u001b[0;32m      <a href='vscode-notebook-cell:/c%3A/Users/Jeremy/OneDrive%20-%20UBC/PhD/Scripts/Geemap/geemap/landsat_data_download.ipynb#X10sZmlsZQ%3D%3D?line=2'>3</a>\u001b[0m     \u001b[39m'\u001b[39m\u001b[39mimage\u001b[39m\u001b[39m'\u001b[39m: composite2020,\n\u001b[0;32m      <a href='vscode-notebook-cell:/c%3A/Users/Jeremy/OneDrive%20-%20UBC/PhD/Scripts/Geemap/geemap/landsat_data_download.ipynb#X10sZmlsZQ%3D%3D?line=3'>4</a>\u001b[0m     \u001b[39m'\u001b[39m\u001b[39mfilename\u001b[39m\u001b[39m'\u001b[39m: \u001b[39m\"\u001b[39m\u001b[39mC:/Users/Jeremy/OneDrive/GIS/Blender/Walkthrough/Input Landsat Imagery/landsat.tif\u001b[39m\u001b[39m\"\u001b[39m,\n\u001b[1;32m   (...)\u001b[0m\n\u001b[0;32m      <a href='vscode-notebook-cell:/c%3A/Users/Jeremy/OneDrive%20-%20UBC/PhD/Scripts/Geemap/geemap/landsat_data_download.ipynb#X10sZmlsZQ%3D%3D?line=7'>8</a>\u001b[0m     \u001b[39m'\u001b[39m\u001b[39mregion\u001b[39m\u001b[39m'\u001b[39m: clipping_geometry  \u001b[39m# Specify the region of interest for the download\u001b[39;00m\n\u001b[0;32m      <a href='vscode-notebook-cell:/c%3A/Users/Jeremy/OneDrive%20-%20UBC/PhD/Scripts/Geemap/geemap/landsat_data_download.ipynb#X10sZmlsZQ%3D%3D?line=8'>9</a>\u001b[0m }\n\u001b[1;32m---> <a href='vscode-notebook-cell:/c%3A/Users/Jeremy/OneDrive%20-%20UBC/PhD/Scripts/Geemap/geemap/landsat_data_download.ipynb#X10sZmlsZQ%3D%3D?line=9'>10</a>\u001b[0m geemap\u001b[39m.\u001b[39;49mdownload_ee_image_tiles(\u001b[39m*\u001b[39;49m\u001b[39m*\u001b[39;49mparams)\n",
      "\u001b[1;31mTypeError\u001b[0m: download_ee_image_tiles() missing 1 required positional argument: 'features'"
     ]
    }
   ],
   "source": [
    "# Specify the parameters for downloading the image\n",
    "params = {\n",
    "    'image': composite2020,\n",
    "    'filename': \"C:/Users/Jeremy/OneDrive/GIS/Blender/Walkthrough/Input Landsat Imagery/landsat.tif\",\n",
    "    'scale': 30,\n",
    "    'fishnet': grid,\n",
    "    'crs': 'EPSG:4326',  # Specify the desired projection (e.g., WGS84)\n",
    "    'region': clipping_geometry  # Specify the region of interest for the download\n",
    "}\n",
    "geemap.download_ee_image_tiles(**params)"
   ]
  }
 ],
 "metadata": {
  "kernelspec": {
   "display_name": "gee",
   "language": "python",
   "name": "python3"
  },
  "language_info": {
   "codemirror_mode": {
    "name": "ipython",
    "version": 3
   },
   "file_extension": ".py",
   "mimetype": "text/x-python",
   "name": "python",
   "nbconvert_exporter": "python",
   "pygments_lexer": "ipython3",
   "version": "3.11.4"
  },
  "orig_nbformat": 4
 },
 "nbformat": 4,
 "nbformat_minor": 2
}
