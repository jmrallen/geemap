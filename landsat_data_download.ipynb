{
 "cells": [
  {
   "cell_type": "code",
   "execution_count": 7,
   "metadata": {},
   "outputs": [],
   "source": [
    "import geemap\n",
    "import geopandas\n",
    "import ee\n",
    "import os"
   ]
  },
  {
   "cell_type": "code",
   "execution_count": 8,
   "metadata": {},
   "outputs": [
    {
     "data": {
      "application/vnd.jupyter.widget-view+json": {
       "model_id": "aad2f04584cc4493977698001ecf10a6",
       "version_major": 2,
       "version_minor": 0
      },
      "text/plain": [
       "Map(center=[40, -100], controls=(WidgetControl(options=['position', 'transparent_bg'], widget=HBox(children=(T…"
      ]
     },
     "execution_count": 8,
     "metadata": {},
     "output_type": "execute_result"
    }
   ],
   "source": [
    "Map = geemap.Map(center=[40,-100], zoom=4)\n",
    "Map"
   ]
  },
  {
   "cell_type": "code",
   "execution_count": 9,
   "metadata": {},
   "outputs": [],
   "source": [
    "clipping_shape = 'C:/Users/Jeremy/OneDrive/GIS/Blender/Walkthrough/bounding_box.shp'\n",
    "clipping = geemap.shp_to_ee(clipping_shape)\n",
    "clipping_geometry = clipping.geometry()\n",
    "\n",
    "Map.addLayer(clipping_geometry, {}, 'clipping')"
   ]
  },
  {
   "cell_type": "code",
   "execution_count": 10,
   "metadata": {},
   "outputs": [],
   "source": [
    "# A function that scales and masks Landsat 8 (C2) surface reflectance images.\n",
    "# Source: https://gis.stackexchange.com/questions/425159/how-to-make-a-cloud-free-composite-for-landsat-8-collection-2-surface-reflectanc\n",
    "def prepSrL8(image):\n",
    "  # Develop masks for unwanted pixels (fill, cloud, cloud shadow).\n",
    "  qaMask = image.select('QA_PIXEL').bitwiseAnd(int('11111', 2)).eq(0)\n",
    "  saturationMask = image.select('QA_RADSAT').eq(0)\n",
    "\n",
    "  # Apply the scaling factors to the appropriate bands.\n",
    "  def getFactorImg(factorNames):\n",
    "    factorList = image.toDictionary().select(factorNames).values()\n",
    "    return ee.Image.constant(factorList)\n",
    "\n",
    "  scaleImg = getFactorImg([\n",
    "    'REFLECTANCE_MULT_BAND_.|TEMPERATURE_MULT_BAND_ST_B10'])\n",
    "  offsetImg = getFactorImg([\n",
    "    'REFLECTANCE_ADD_BAND_.|TEMPERATURE_ADD_BAND_ST_B10'])\n",
    "  scaled = image.select('SR_B.|ST_B10').multiply(scaleImg).add(offsetImg)\n",
    "\n",
    "  # Replace original bands with scaled bands and apply masks.\n",
    "  return image.addBands(scaled, None, True) \\\n",
    "    .updateMask(qaMask).updateMask(saturationMask)"
   ]
  },
  {
   "cell_type": "code",
   "execution_count": 14,
   "metadata": {},
   "outputs": [],
   "source": [
    "# Landsat 8 Collection 2 surface reflectance images of interest.\n",
    "ls8_comp_per_year = ee.ImageCollection([]); # Create an empty image collection to store composites.\n",
    "\n",
    "# Define the time range.\n",
    "startYear = 2020\n",
    "endYear = 2020\n",
    "years = list(range(startYear, endYear, 1))\n",
    "\n",
    "#Loop through years to get a summer cloud free composite of study area\n",
    "for year in years:\n",
    "\n",
    "  #Set date range\n",
    "  startDate = ee.Date.fromYMD(year, 6, 1)\n",
    "  endDate = ee.Date.fromYMD(year, 8, 31)\n",
    "\n",
    "  #Generate composite from collection\n",
    "  composite = ee.ImageCollection('LANDSAT/LC08/C02/T1_L2') \\\n",
    "    .filterBounds(clipping_geometry) \\\n",
    "    .filterDate(startDate, endDate) \\\n",
    "    .filter(ee.Filter.calendarRange(5, 8, 'month')) \\\n",
    "    .map(prepSrL8) \\\n",
    "    .select('SR_B.|ST_B10') \\\n",
    "    .median() \\\n",
    "    .clip(clipping_geometry)\n",
    "\n",
    "  #Add year to metadata\n",
    "  composite = composite.set('year', year)\n",
    "\n",
    "  #Append year composite to collection\n",
    "  ls8_comp_per_year = ls8_comp_per_year.merge(composite); # Add the composite to the collection."
   ]
  },
  {
   "cell_type": "code",
   "execution_count": 12,
   "metadata": {},
   "outputs": [],
   "source": [
    "#Select images for 3 years\n",
    "composite2016 = ls8_comp_per_year.filterMetadata('year', 'equals', 2016).first()\n",
    "composite2018 = ls8_comp_per_year.filterMetadata('year', 'equals', 2018).first()\n",
    "composite2020 = ls8_comp_per_year.filterMetadata('year', 'equals', 2020).first()\n",
    "\n",
    "#Plot composite images for three years\n",
    "Map.addLayer(composite2016, {'bands':['SR_B4',  'SR_B3',  'SR_B2'], 'min':0, 'max':0.3}, 'Landsat-8 2016 Composite')\n",
    "Map.addLayer(composite2018, {'bands':['SR_B4',  'SR_B3',  'SR_B2'], 'min':0, 'max':0.3}, 'Landsat-8 2018 Composite')\n",
    "Map.addLayer(composite2020, {'bands':['SR_B4',  'SR_B3',  'SR_B2'], 'min':0, 'max':0.3}, 'Landsat-8 2020 Composite')"
   ]
  },
  {
   "cell_type": "code",
   "execution_count": 13,
   "metadata": {},
   "outputs": [],
   "source": [
    "#Create a grid to use for tiling the imagery (due to GEE memory limits...)\n",
    "grid = geemap.fishnet(clipping_geometry, rows=2, cols=2)\n",
    "Map.addLayer(grid, {}, 'Grids')"
   ]
  },
  {
   "cell_type": "code",
   "execution_count": 18,
   "metadata": {},
   "outputs": [
    {
     "data": {
      "application/vnd.jupyter.widget-view+json": {
       "model_id": "fc313b604a154e6482e94145df78e8c5",
       "version_major": 2,
       "version_minor": 0
      },
      "text/plain": [
       "landsat.tif: |          | 0.00/259M (raw) [  0.0%] in 00:00 (eta:     ?)"
      ]
     },
     "metadata": {},
     "output_type": "display_data"
    },
    {
     "name": "stderr",
     "output_type": "stream",
     "text": [
      "There is no STAC entry for: None\n"
     ]
    }
   ],
   "source": [
    "# Specify the parameters for downloading the image\n",
    "params = {\n",
    "    'image': composite2020,\n",
    "    'filename': \"C:/Users/Jeremy/OneDrive/GIS/Blender/Walkthrough/Input Landsat Imagery/landsat.tif\",\n",
    "    'scale': 30,\n",
    "    'crs': 'EPSG:4326',  # Specify the desired projection (e.g., WGS84)\n",
    "    'region': clipping_geometry  # Specify the region of interest for the download\n",
    "}\n",
    "geemap.download_ee_image(**params)"
   ]
  }
 ],
 "metadata": {
  "kernelspec": {
   "display_name": "gee",
   "language": "python",
   "name": "python3"
  },
  "language_info": {
   "codemirror_mode": {
    "name": "ipython",
    "version": 3
   },
   "file_extension": ".py",
   "mimetype": "text/x-python",
   "name": "python",
   "nbconvert_exporter": "python",
   "pygments_lexer": "ipython3",
   "version": "3.11.4"
  },
  "orig_nbformat": 4
 },
 "nbformat": 4,
 "nbformat_minor": 2
}
